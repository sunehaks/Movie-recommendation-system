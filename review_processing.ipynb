{
 "cells": [
  {
   "cell_type": "code",
   "execution_count": 3,
   "metadata": {},
   "outputs": [],
   "source": [
    "import nltk\n",
    "#nltk.download()\n",
    "import pandas as pd\n",
    "import numpy as np\n",
    "from nltk.corpus import stopwords"
   ]
  },
  {
   "cell_type": "code",
   "execution_count": 4,
   "metadata": {},
   "outputs": [
    {
     "data": {
      "text/html": [
       "<div>\n",
       "<style scoped>\n",
       "    .dataframe tbody tr th:only-of-type {\n",
       "        vertical-align: middle;\n",
       "    }\n",
       "\n",
       "    .dataframe tbody tr th {\n",
       "        vertical-align: top;\n",
       "    }\n",
       "\n",
       "    .dataframe thead th {\n",
       "        text-align: right;\n",
       "    }\n",
       "</style>\n",
       "<table border=\"1\" class=\"dataframe\">\n",
       "  <thead>\n",
       "    <tr style=\"text-align: right;\">\n",
       "      <th></th>\n",
       "      <th>userId</th>\n",
       "      <th>movieId</th>\n",
       "      <th>review</th>\n",
       "    </tr>\n",
       "  </thead>\n",
       "  <tbody>\n",
       "    <tr>\n",
       "      <th>0</th>\n",
       "      <td>0</td>\n",
       "      <td>599</td>\n",
       "      <td>I was waiting for the movie for along time and...</td>\n",
       "    </tr>\n",
       "    <tr>\n",
       "      <th>1</th>\n",
       "      <td>0</td>\n",
       "      <td>368</td>\n",
       "      <td>I won't go into detail about this film, becaus...</td>\n",
       "    </tr>\n",
       "    <tr>\n",
       "      <th>2</th>\n",
       "      <td>0</td>\n",
       "      <td>757</td>\n",
       "      <td>Vikrant Massey nails in Aditya character Jacky...</td>\n",
       "    </tr>\n",
       "    <tr>\n",
       "      <th>3</th>\n",
       "      <td>0</td>\n",
       "      <td>48</td>\n",
       "      <td>The whole cinema went crazy laughing.\\nIt's ex...</td>\n",
       "    </tr>\n",
       "    <tr>\n",
       "      <th>4</th>\n",
       "      <td>0</td>\n",
       "      <td>530</td>\n",
       "      <td>Woah!!! this one is surely one heck of a ride....</td>\n",
       "    </tr>\n",
       "  </tbody>\n",
       "</table>\n",
       "</div>"
      ],
      "text/plain": [
       "   userId  movieId                                             review\n",
       "0       0      599  I was waiting for the movie for along time and...\n",
       "1       0      368  I won't go into detail about this film, becaus...\n",
       "2       0      757  Vikrant Massey nails in Aditya character Jacky...\n",
       "3       0       48  The whole cinema went crazy laughing.\\nIt's ex...\n",
       "4       0      530  Woah!!! this one is surely one heck of a ride...."
      ]
     },
     "execution_count": 4,
     "metadata": {},
     "output_type": "execute_result"
    }
   ],
   "source": [
    "df = pd.read_csv('reviews_scrape.csv')\n",
    "df.head()"
   ]
  },
  {
   "cell_type": "code",
   "execution_count": 5,
   "metadata": {},
   "outputs": [],
   "source": [
    "from sklearn import preprocessing"
   ]
  },
  {
   "cell_type": "code",
   "execution_count": null,
   "metadata": {},
   "outputs": [],
   "source": [
    "sw=stopwords.words('english')\t\t\t\t# extracting common words like 'a','the' in english\n",
    "sw=[x.encode(\"utf-8\") for x in sw]\t\t\t# converting sw to utf-8 encoding\n",
    "\n",
    "nw=np.loadtxt('negative-words.txt',dtype=str)\t\t# extracting negative words from txt file\n",
    "pw = np.loadtxt('positive-words.txt',dtype=str)     # extracting positive words from txt file\n",
    "\n",
    "posts = df['review']\n",
    "negative = []\n",
    "positive = []\n",
    "total = []\n",
    "for i in range(0,len(posts)):\n",
    "    ncount = 0\n",
    "    pcount = 0\n",
    "    count = 0\n",
    "    p = posts[i].split()\n",
    "    p=[w for w in p if w.lower() not in sw]\t\t\t# removing stopwords from the post\n",
    "    count = len(p)\n",
    "    neg=[w for w in p if w.lower() in nw]\n",
    "    ncount = len(neg)\n",
    "    negative.append(ncount)\n",
    "    pos = [w for w in p if w.lower() in pw]\n",
    "    pcount = len(pos)\n",
    "    positive.append(pcount)\n",
    "tot = np.array(positive)-np.array(negative)\n",
    "\n",
    "norm_tot = np.squeeze(preprocessing.normalize([tot])*10) \n",
    "for i in range(0,len(norm_tot)):\n",
    "    norm_tot[i] = round(norm_tot[i],1)\n",
    "print(norm_tot[7])"
   ]
  },
  {
   "cell_type": "code",
   "execution_count": null,
   "metadata": {},
   "outputs": [],
   "source": [
    "#print(negative,'\\n',positive)\n",
    "tot"
   ]
  },
  {
   "cell_type": "code",
   "execution_count": 72,
   "metadata": {},
   "outputs": [
    {
     "name": "stdout",
     "output_type": "stream",
     "text": [
      "[8.3 5.5]\n",
      "[7.8 6.2]\n"
     ]
    }
   ],
   "source": [
    "\n",
    "'''norm_pos = np.squeeze(preprocessing.normalize([positive])*10) \n",
    "for i in range(0,len(norm_pos)):\n",
    "    norm_pos[i] = round(norm_pos[i],1)\n",
    "print(norm_pos)\n",
    "\n",
    "norm_neg = np.squeeze(preprocessing.normalize([negative])*10) \n",
    "for i in range(0,len(norm_neg)):\n",
    "    norm_neg[i] = round(norm_neg[i],1)\n",
    "print(norm_neg)'''"
   ]
  },
  {
   "cell_type": "code",
   "execution_count": 112,
   "metadata": {},
   "outputs": [
    {
     "data": {
      "text/html": [
       "<div>\n",
       "<style scoped>\n",
       "    .dataframe tbody tr th:only-of-type {\n",
       "        vertical-align: middle;\n",
       "    }\n",
       "\n",
       "    .dataframe tbody tr th {\n",
       "        vertical-align: top;\n",
       "    }\n",
       "\n",
       "    .dataframe thead th {\n",
       "        text-align: right;\n",
       "    }\n",
       "</style>\n",
       "<table border=\"1\" class=\"dataframe\">\n",
       "  <thead>\n",
       "    <tr style=\"text-align: right;\">\n",
       "      <th></th>\n",
       "      <th>userId</th>\n",
       "      <th>movieId</th>\n",
       "      <th>score</th>\n",
       "    </tr>\n",
       "  </thead>\n",
       "  <tbody>\n",
       "    <tr>\n",
       "      <th>0</th>\n",
       "      <td>0</td>\n",
       "      <td>599</td>\n",
       "      <td>10</td>\n",
       "    </tr>\n",
       "    <tr>\n",
       "      <th>1</th>\n",
       "      <td>0</td>\n",
       "      <td>368</td>\n",
       "      <td>6</td>\n",
       "    </tr>\n",
       "    <tr>\n",
       "      <th>2</th>\n",
       "      <td>0</td>\n",
       "      <td>757</td>\n",
       "      <td>0</td>\n",
       "    </tr>\n",
       "    <tr>\n",
       "      <th>3</th>\n",
       "      <td>0</td>\n",
       "      <td>48</td>\n",
       "      <td>-3</td>\n",
       "    </tr>\n",
       "    <tr>\n",
       "      <th>4</th>\n",
       "      <td>0</td>\n",
       "      <td>530</td>\n",
       "      <td>-1</td>\n",
       "    </tr>\n",
       "  </tbody>\n",
       "</table>\n",
       "</div>"
      ],
      "text/plain": [
       "   userId  movieId  score\n",
       "0       0      599     10\n",
       "1       0      368      6\n",
       "2       0      757      0\n",
       "3       0       48     -3\n",
       "4       0      530     -1"
      ]
     },
     "execution_count": 112,
     "metadata": {},
     "output_type": "execute_result"
    }
   ],
   "source": [
    "df['score'] = tot\n",
    "df.loc[:15,:]\n",
    "df1 = df.loc[:,['userId','movieId','score']]\n",
    "df1.head()"
   ]
  },
  {
   "cell_type": "code",
   "execution_count": 113,
   "metadata": {},
   "outputs": [],
   "source": [
    "df1.to_csv('scrape_review_score.csv', index=False)"
   ]
  },
  {
   "cell_type": "code",
   "execution_count": 92,
   "metadata": {},
   "outputs": [
    {
     "name": "stdout",
     "output_type": "stream",
     "text": [
      "MinMaxScaler(copy=True, feature_range=(0, 10))\n",
      "[[ 0.   0. ]\n",
      " [ 2.5  2.5]\n",
      " [ 5.   5. ]\n",
      " [10.  10. ]]\n"
     ]
    }
   ],
   "source": [
    "from sklearn.preprocessing import MinMaxScaler\n",
    "data = [[-1, 2], [-0.5, 6], [0, 10], [1, 18]]\n",
    "scaler = MinMaxScaler(copy=True, feature_range=(0, 10))\n",
    "print(scaler.fit(data))\n",
    "#MinMaxScaler(copy=True, feature_range=(0, 100))\n",
    "print(scaler.transform(data))"
   ]
  },
  {
   "cell_type": "code",
   "execution_count": 100,
   "metadata": {},
   "outputs": [
    {
     "name": "stdout",
     "output_type": "stream",
     "text": [
      "[[0. 0. 0. ... 0. 0. 0.]]\n"
     ]
    }
   ],
   "source": [
    "from sklearn.preprocessing import MinMaxScaler\n",
    "scaler = MinMaxScaler(copy=True, feature_range=(0, 10))\n",
    "scaler.fit([tot])\n",
    "print(scaler.transform([tot]))\n",
    "data = scaler.transform([tot])"
   ]
  },
  {
   "cell_type": "code",
   "execution_count": 107,
   "metadata": {},
   "outputs": [
    {
     "data": {
      "text/plain": [
       "0.0"
      ]
     },
     "execution_count": 107,
     "metadata": {},
     "output_type": "execute_result"
    }
   ],
   "source": []
  },
  {
   "cell_type": "code",
   "execution_count": null,
   "metadata": {},
   "outputs": [],
   "source": []
  }
 ],
 "metadata": {
  "kernelspec": {
   "display_name": "Python 3",
   "language": "python",
   "name": "python3"
  },
  "language_info": {
   "codemirror_mode": {
    "name": "ipython",
    "version": 3
   },
   "file_extension": ".py",
   "mimetype": "text/x-python",
   "name": "python",
   "nbconvert_exporter": "python",
   "pygments_lexer": "ipython3",
   "version": "3.7.3"
  }
 },
 "nbformat": 4,
 "nbformat_minor": 2
}
